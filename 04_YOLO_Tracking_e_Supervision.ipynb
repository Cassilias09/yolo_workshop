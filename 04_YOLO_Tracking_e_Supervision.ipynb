{
 "cells": [
  {
   "cell_type": "markdown",
   "id": "9eb04f2f",
   "metadata": {},
   "source": [
    "# YOLO: Rastreamento de Objetos e Análise de Tráfego com Supervision"
   ]
  },
  {
   "cell_type": "code",
   "execution_count": null,
   "id": "5d2972c8",
   "metadata": {},
   "outputs": [],
   "source": [
    "import cv2\n",
    "from ultralytics import YOLO\n",
    "import supervision as sv"
   ]
  },
  {
   "cell_type": "code",
   "execution_count": null,
   "id": "835cda0f",
   "metadata": {},
   "outputs": [],
   "source": [
    "model = YOLO()"
   ]
  },
  {
   "cell_type": "code",
   "execution_count": null,
   "id": "cdfdfec4",
   "metadata": {},
   "outputs": [],
   "source": [
    "video_path = 'vehicle-counting.mp4'\n",
    "output_video_path = 'output_traffic_analysis_sv.mp4'\n",
    "\n",
    "cap = cv2.VideoCapture(video_path)\n",
    "\n",
    "if not cap.isOpened():\n",
    "    print(f\"Erro: Não foi possível abrir o vídeo em {video_path}\")\n",
    "    exit() # Encerrar se o vídeo não puder ser aberto\n",
    "\n",
    "width = int(cap.get(cv2.CAP_PROP_FRAME_WIDTH))\n",
    "height = int(cap.get(cv2.CAP_PROP_FRAME_HEIGHT))\n",
    "fps = int(cap.get(cv2.CAP_PROP_FPS))\n",
    "print(f\"Resolução do vídeo: {width}x{height}, FPS: {fps}\")\n",
    "\n",
    "fourcc = cv2.VideoWriter_fourcc(*'mp4v')\n",
    "out = cv2.VideoWriter(output_video_path, fourcc, fps, (width, height))\n",
    "print(f\"Vídeo de saída configurado: {output_video_path}\")"
   ]
  },
  {
   "cell_type": "code",
   "execution_count": null,
   "id": "34dabceb",
   "metadata": {},
   "outputs": [],
   "source": [
    "# Define as classes de interesse (veículos)\n",
    "# Obtenha os nomes das classes do modelo YOLO\n",
    "class_names = model.names\n",
    "\n",
    "# Mapeie os IDs das classes para os nomes que queremos rastrear\n",
    "target_classes_ids = [\n",
    "    class_id for class_id, name in class_names.items()\n",
    "    if name in ['car', 'truck']\n",
    "]\n",
    "print(f\"IDs das classes de veículos a serem rastreados: {target_classes_ids}\")\n",
    "\n",
    "# Definir a linha de contagem (LineZone)\n",
    "\n",
    "line_start = sv.Point(0, (height // 3) * 2)\n",
    "line_end = sv.Point(width, (height // 3) * 2)\n",
    "line_zone = sv.LineZone(start=line_start, end=line_end)\n",
    "\n",
    "# Anotadores do Supervision para visualização\n",
    "# BoxAnnotator: desenha as bounding boxes e labels\n",
    "box_annotator = sv.BoxAnnotator(\n",
    "    thickness=2,\n",
    ")\n",
    "# LineZoneAnnotator: desenha a linha de contagem e os contadores\n",
    "line_zone_annotator = sv.LineZoneAnnotator(\n",
    "    thickness=2,\n",
    "    text_thickness=2,\n",
    "    text_scale=1\n",
    ")"
   ]
  },
  {
   "cell_type": "code",
   "execution_count": null,
   "id": "4c3d9e03",
   "metadata": {},
   "outputs": [],
   "source": [
    "\n",
    "while cap.isOpened():\n",
    "    ret, frame = cap.read()\n",
    "    if not ret:\n",
    "        break\n",
    "\n",
    "    results = model.track(source=frame, persist=True, conf=0.3, iou=0.5, verbose=False)\n",
    "\n",
    "    detections = sv.Detections.from_ultralytics(results[0])\n",
    "\n",
    "    # Atualizar a LineZone com as novas detecções para contagem\n",
    "    line_zone.trigger(detections=detections)\n",
    "\n",
    "    annotated_frame = box_annotator.annotate(scene=frame.copy(), detections=detections)\n",
    "\n",
    "    # Anotar o frame com a linha de contagem e os contadores (in/out)\n",
    "    annotated_frame = line_zone_annotator.annotate(\n",
    "        frame=annotated_frame, line_counter=line_zone\n",
    "    )\n",
    "\n",
    "    cv2.imshow('Traffic Analysis', annotated_frame)\n",
    "    if cv2.waitKey(1) & 0xFF == ord('q'):\n",
    "        cv2.destroyAllWindows()\n",
    "        break # Sair se 'q' for pressionado\n",
    "\n",
    "    # Escrever o frame anotado no vídeo de saída\n",
    "    out.write(annotated_frame)"
   ]
  },
  {
   "cell_type": "code",
   "execution_count": null,
   "id": "78d0c131",
   "metadata": {},
   "outputs": [],
   "source": [
    "cap.release() # Liberar o objeto de captura\n",
    "out.release() # Liberar o objeto de escrita de vídeo\n",
    "cv2.destroyAllWindows() # Fechar todas as janelas\n",
    "\n",
    "print(\"\\nEstatísticas Finais de Contagem (com rastreamento):\")\n",
    "print(f\"- Objetos que entraram na zona de contagem: {line_zone.in_count}\")\n",
    "print(f\"- Objetos que saíram da zona de contagem: {line_zone.out_count}\")"
   ]
  }
 ],
 "metadata": {
  "kernelspec": {
   "display_name": ".venv",
   "language": "python",
   "name": "python3"
  },
  "language_info": {
   "codemirror_mode": {
    "name": "ipython",
    "version": 3
   },
   "file_extension": ".py",
   "mimetype": "text/x-python",
   "name": "python",
   "nbconvert_exporter": "python",
   "pygments_lexer": "ipython3",
   "version": "3.11.9"
  }
 },
 "nbformat": 4,
 "nbformat_minor": 5
}
