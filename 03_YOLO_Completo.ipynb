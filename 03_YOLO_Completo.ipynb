{
 "cells": [
  {
   "cell_type": "markdown",
   "id": "acb82c97",
   "metadata": {},
   "source": [
    "# YOLO: Projeto \"Completo\" - Análise de Tráfego"
   ]
  },
  {
   "cell_type": "code",
   "execution_count": null,
   "id": "c8fdcf5c",
   "metadata": {},
   "outputs": [],
   "source": [
    "import cv2\n",
    "from ultralytics import YOLO"
   ]
  },
  {
   "cell_type": "code",
   "execution_count": null,
   "id": "f02728f5",
   "metadata": {},
   "outputs": [],
   "source": [
    "model = YOLO()"
   ]
  },
  {
   "cell_type": "code",
   "execution_count": null,
   "id": "ecb99a29",
   "metadata": {},
   "outputs": [],
   "source": [
    "video_path = 'vehicle-counting.mp4'\n",
    "output_video_path = 'output_traffic_analysis.mp4'\n",
    "\n",
    "cap = cv2.VideoCapture(video_path)\n",
    "\n",
    "if not cap.isOpened():\n",
    "    print(f\"Erro: Não foi possível abrir o vídeo em {video_path}\")\n",
    "    exit() # Encerrar se o vídeo não puder ser aberto\n",
    "\n",
    "width = int(cap.get(cv2.CAP_PROP_FRAME_WIDTH))\n",
    "height = int(cap.get(cv2.CAP_PROP_FRAME_HEIGHT))\n",
    "fps = int(cap.get(cv2.CAP_PROP_FPS))\n",
    "print(f\"Resolução do vídeo: {width}x{height}, FPS: {fps}\")\n",
    "\n",
    "fourcc = cv2.VideoWriter_fourcc(*'mp4v')\n",
    "out = cv2.VideoWriter(output_video_path, fourcc, fps, (width, height))\n",
    "print(f\"Vídeo de saída configurado: {output_video_path}\")"
   ]
  },
  {
   "cell_type": "code",
   "execution_count": null,
   "id": "33dac72d",
   "metadata": {},
   "outputs": [],
   "source": [
    "target_classes = {'car': 2, 'truck': 7}\n",
    "class_counts = {name: 0 for name in target_classes.keys()}\n",
    "\n",
    "# Definir uma 'linha de contagem' ou 'área de interesse'\n",
    "count_line_y = int(height * 0.7) # Linha horizontal a 70% da altura da imagem"
   ]
  },
  {
   "cell_type": "code",
   "execution_count": null,
   "id": "3271a72a",
   "metadata": {},
   "outputs": [],
   "source": [
    "frame_idx = 0\n",
    "while True:\n",
    "    ret, frame = cap.read()\n",
    "    if not ret:\n",
    "        break\n",
    "\n",
    "    # Realizar inferência\n",
    "    results = model.predict(source=frame, conf=0.25, iou=0.5, verbose=False)\n",
    "\n",
    "    # Desenhar a linha de contagem no frame\n",
    "    cv2.line(frame, (0, count_line_y), (width, count_line_y), (255, 0, 255), 2) # Linha magenta\n",
    "\n",
    "    # Processar cada detecção\n",
    "    for r in results:\n",
    "        boxes = r.boxes\n",
    "        for box in boxes:\n",
    "            x1, y1, x2, y2 = map(int, box.xyxy[0].cpu().numpy())\n",
    "            confidence = float(box.conf[0].cpu().numpy())\n",
    "            class_id = int(box.cls[0].cpu().numpy())\n",
    "            class_name = model.names[class_id]\n",
    "\n",
    "            if class_name in target_classes and confidence > 0.5: # Filtrar por confiança e classes de interesse\n",
    "                center_x = (x1 + x2) // 2\n",
    "                center_y = (y1 + y2) // 2\n",
    "                \n",
    "                # Plotar a bounding box e label\n",
    "                color = (0, 255, 0) # Verde\n",
    "                cv2.rectangle(frame, (x1, y1), (x2, y2), color, 2)\n",
    "                label = f'{class_name} {confidence:.2f}'\n",
    "                cv2.putText(frame, label, (x1, y1 - 10), cv2.FONT_HERSHEY_SIMPLEX, 0.7, color, 2, cv2.LINE_AA)\n",
    "                cv2.circle(frame, (center_x, center_y), 5, (0, 0, 255), -1) # Centro do objeto\n",
    "                \n",
    "    current_frame_detections_info = {}\n",
    "    for r in results:\n",
    "        boxes = r.boxes\n",
    "        for box in boxes:\n",
    "            x1, y1, x2, y2 = map(int, box.xyxy[0].cpu().numpy())\n",
    "            class_id = int(box.cls[0].cpu().numpy())\n",
    "            class_name = model.names[class_id]\n",
    "            if class_name in target_classes:\n",
    "                if class_name not in current_frame_detections_info:\n",
    "                    current_frame_detections_info[class_name] = 0\n",
    "                current_frame_detections_info[class_name] += 1\n",
    "                # Se o centro do objeto cruza a linha (simplificado para demo)\n",
    "                center_y = (y1 + y2) // 2\n",
    "                if abs(center_y - count_line_y) < 10: # Se estiver na zona de contagem\n",
    "                    class_counts[class_name] += 1 # Contagem simples (pode haver overcounting)\n",
    "\n",
    "    # Mostrar contagens no frame\n",
    "    y_offset = 30\n",
    "    for class_name, count in class_counts.items():\n",
    "        text = f'{class_name}: {count}'\n",
    "        cv2.putText(frame, text, (10, y_offset), cv2.FONT_HERSHEY_SIMPLEX, 0.8, (255, 255, 255), 2, cv2.LINE_AA)\n",
    "        y_offset += 30\n",
    "        \n",
    "    cv2.imshow('Traffic Analysis', frame)\n",
    "    if cv2.waitKey(25) & 0xFF == ord('q'):\n",
    "        cv2.destroyAllWindows()\n",
    "        break\n",
    "    out.write(frame)\n",
    "\n",
    "    frame_idx += 1"
   ]
  },
  {
   "cell_type": "code",
   "execution_count": null,
   "id": "cbe38125",
   "metadata": {},
   "outputs": [],
   "source": [
    "# 6. Finalização e Resultados\n",
    "print(f\"Total de frames processados: {frame_idx}\")\n",
    "cap.release()\n",
    "out.release()\n",
    "cv2.destroyAllWindows()\n",
    "print(f\"Vídeo de análise salvo como '{output_video_path}'\")\n",
    "\n",
    "print(\"\\nEstatísticas Finais (Contagem Simplificada):\")\n",
    "for class_name, count in class_counts.items():\n",
    "    print(f\"- {class_name}: {count}\")\n"
   ]
  }
 ],
 "metadata": {
  "kernelspec": {
   "display_name": ".venv",
   "language": "python",
   "name": "python3"
  },
  "language_info": {
   "codemirror_mode": {
    "name": "ipython",
    "version": 3
   },
   "file_extension": ".py",
   "mimetype": "text/x-python",
   "name": "python",
   "nbconvert_exporter": "python",
   "pygments_lexer": "ipython3",
   "version": "3.11.9"
  }
 },
 "nbformat": 4,
 "nbformat_minor": 5
}
